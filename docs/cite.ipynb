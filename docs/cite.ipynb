{
 "cells": [
  {
   "cell_type": "markdown",
   "metadata": {},
   "source": [
    "# Citations using notebook html citations\n",
    "\n",
    "<cite data-cite=\"kluyver2016jupyter\"></cite>\n",
    "\n",
    "<strong data-cite=\"perez2011python\"></strong>\n",
    "\n"
   ]
  },
  {
   "cell_type": "markdown",
   "metadata": {},
   "source": [
    "# Citations using markdown footnotes syntax\n",
    "**Jan-Erik Tesdal**[^1][^\\*]**, Ryan Abernathey**[^1] **and Ian Fenty**[^2]\n",
    "\n",
    "[^1]: Lamont-Doherty Earth Observatory, Columbia University, Palisades, NY, USA\n",
    "[^2]: Jet Propulsion Laboratory, California Institute of Technology, Pasadena, CA, USA\n",
    "[^\\*]: *Corresponding author*: jt2796@columbia.edu\n",
    "\n",
    "This section demonstrates the closure of the global heat budget in ECCOv4. The steps and Python code has been directly derived from the calculations and MATLAB code in *\"A Note on Practical Evaluation of Budgets in ECCO Version 4 Release 3\"* by Christopher G. Piecuch (https://ecco.jpl.nasa.gov/drive/files/Version4/Release3/doc/v4r3_budgets_howto.pdf)."
   ]
  },
  {
   "cell_type": "markdown",
   "metadata": {},
   "source": [
    "# Citations using markdown superscript syntax (pandoc only)\n",
    "**Jan-Erik Tesdal**^1,\\*^**, Ryan Abernathey**^1^ **and Ian Fenty**^2^\\\n",
    "\n",
    "^1^ Lamont-Doherty Earth Observatory, Columbia University, Palisades, NY, USA\\\n",
    "^2^ Jet Propulsion Laboratory, California Institute of Technology, Pasadena, CA, USA\\\n",
    "^\\*^ *Corresponding author*: jt2796@columbia.edu\n",
    "\n",
    "This section demonstrates the closure of the global heat budget in ECCOv4. The steps and Python code has been directly derived from the calculations and MATLAB code in *\"A Note on Practical Evaluation of Budgets in ECCO Version 4 Release 3\"* by Christopher G. Piecuch (https://ecco.jpl.nasa.gov/drive/files/Version4/Release3/doc/v4r3_budgets_howto.pdf)."
   ]
  }
 ],
 "metadata": {
  "kernelspec": {
   "display_name": "Python 3",
   "language": "python",
   "name": "python3"
  },
  "language_info": {
   "codemirror_mode": {
    "name": "ipython",
    "version": 3
   },
   "file_extension": ".py",
   "mimetype": "text/x-python",
   "name": "python",
   "nbconvert_exporter": "python",
   "pygments_lexer": "ipython3",
   "version": "3.7.8"
  }
 },
 "nbformat": 4,
 "nbformat_minor": 2
}
