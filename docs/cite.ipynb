{
 "cells": [
  {
   "cell_type": "markdown",
   "metadata": {},
   "source": [
    "# Citations using notebook html citations\n",
    "**John Smith**<cite data-cite=\"smith_anderson\"></cite>**, Robert Anderson**<cite data-cite=\"smith_anderson\"></cite> **and Mike Davis**<cite data-cite=\"davis\"></cite>\\\n",
    "\n",
    "\n",
    "Mentioning the article <cite data-cite=\"ADCROFT2004269\"></cite>.\\\n",
    "\n",
    "\n",
    "This notebook presents code."
   ]
  },
  {
   "cell_type": "markdown",
   "metadata": {},
   "source": [
    "# Citations using markdown footnotes syntax\n",
    "**John Smith**[^1][^\\*]**, Robert Anderson**[^1] **and Mike Davis**[^2]\n",
    "\n",
    "[^1]: University 1, Town, State/Province, Country\n",
    "[^2]: University 2, Town, State/Province, Country\n",
    "[^\\*]: *Corresponding author*: email@account.edu\n",
    "\n",
    "This notebook presents code."
   ]
  },
  {
   "cell_type": "markdown",
   "metadata": {},
   "source": [
    "# Citations using markdown superscript syntax (pandoc only)\n",
    "**John Smith**^1,\\*^**, Robert Anderson**^1^ **and Mike Davis**^2^\\\n",
    "\n",
    "\n",
    "^1^ University 1, Town, State/Province, Country\\\n",
    "^2^ University 2, Town, State/Province, Country\\\n",
    "^\\*^ *Corresponding author*: email@account.edu\n",
    "\n",
    "\n",
    "This notebook presents code."
   ]
  }
 ],
 "metadata": {
  "kernelspec": {
   "display_name": "Python 3",
   "language": "python",
   "name": "python3"
  },
  "language_info": {
   "codemirror_mode": {
    "name": "ipython",
    "version": 3
   },
   "file_extension": ".py",
   "mimetype": "text/x-python",
   "name": "python",
   "nbconvert_exporter": "python",
   "pygments_lexer": "ipython3",
   "version": "3.7.8"
  }
 },
 "nbformat": 4,
 "nbformat_minor": 2
}
